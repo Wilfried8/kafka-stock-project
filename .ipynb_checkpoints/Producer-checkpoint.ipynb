{
 "cells": [
  {
   "cell_type": "code",
   "execution_count": 2,
   "id": "77cdae22",
   "metadata": {},
   "outputs": [
    {
     "ename": "SyntaxError",
     "evalue": "invalid syntax (simple.py, line 54)",
     "output_type": "error",
     "traceback": [
      "Traceback \u001b[0;36m(most recent call last)\u001b[0m:\n",
      "  File \u001b[1;32m\"/Users/tayo/opt/anaconda3/lib/python3.9/site-packages/IPython/core/interactiveshell.py\"\u001b[0m, line \u001b[1;32m3457\u001b[0m, in \u001b[1;35mrun_code\u001b[0m\n    exec(code_obj, self.user_global_ns, self.user_ns)\n",
      "  File \u001b[1;32m\"/var/folders/7k/wjp727cd4v32nxjyrf02ch100000gn/T/ipykernel_2789/3201315867.py\"\u001b[0m, line \u001b[1;32m2\u001b[0m, in \u001b[1;35m<module>\u001b[0m\n    from kafka import KafkaProducer\n",
      "  File \u001b[1;32m\"/Users/tayo/opt/anaconda3/lib/python3.9/site-packages/kafka/__init__.py\"\u001b[0m, line \u001b[1;32m23\u001b[0m, in \u001b[1;35m<module>\u001b[0m\n    from kafka.producer import KafkaProducer\n",
      "\u001b[0;36m  File \u001b[0;32m\"/Users/tayo/opt/anaconda3/lib/python3.9/site-packages/kafka/producer/__init__.py\"\u001b[0;36m, line \u001b[0;32m4\u001b[0;36m, in \u001b[0;35m<module>\u001b[0;36m\u001b[0m\n\u001b[0;31m    from .simple import SimpleProducer\u001b[0m\n",
      "\u001b[0;36m  File \u001b[0;32m\"/Users/tayo/opt/anaconda3/lib/python3.9/site-packages/kafka/producer/simple.py\"\u001b[0;36m, line \u001b[0;32m54\u001b[0m\n\u001b[0;31m    return '<SimpleProducer batch=%s>' % self.async\u001b[0m\n\u001b[0m                                              ^\u001b[0m\n\u001b[0;31mSyntaxError\u001b[0m\u001b[0;31m:\u001b[0m invalid syntax\n"
     ]
    }
   ],
   "source": [
    "import pandas as pd\n",
    "from kafka import KafkaProducer\n",
    "from time import sleep\n",
    "from json import dumps\n",
    "import json"
   ]
  },
  {
   "cell_type": "code",
   "execution_count": null,
   "id": "d5c42854",
   "metadata": {},
   "outputs": [],
   "source": []
  }
 ],
 "metadata": {
  "kernelspec": {
   "display_name": "Python 3 (ipykernel)",
   "language": "python",
   "name": "python3"
  },
  "language_info": {
   "codemirror_mode": {
    "name": "ipython",
    "version": 3
   },
   "file_extension": ".py",
   "mimetype": "text/x-python",
   "name": "python",
   "nbconvert_exporter": "python",
   "pygments_lexer": "ipython3",
   "version": "3.9.13"
  }
 },
 "nbformat": 4,
 "nbformat_minor": 5
}
